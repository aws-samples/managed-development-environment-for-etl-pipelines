{
 "cells": [
  {
   "cell_type": "code",
   "execution_count": null,
   "source": [
    "# Copyright Amazon.com, Inc. or its affiliates. All Rights Reserved.\r\n",
    "# SPDX-License-Identifier: MIT-0"
   ],
   "outputs": [],
   "metadata": {}
  },
  {
   "cell_type": "code",
   "execution_count": null,
   "source": [
    "from awsglue.context import GlueContext\r\n",
    "from awsglue.dynamicframe import DynamicFrame\r\n",
    "from pyspark.context import SparkContext\r\n",
    "import warnings\r\n",
    "warnings.filterwarnings('ignore')\r\n",
    "glueContext = GlueContext(SparkContext.getOrCreate())"
   ],
   "outputs": [],
   "metadata": {}
  },
  {
   "cell_type": "code",
   "execution_count": null,
   "source": [
    "mylist = [\r\n",
    "    {\"col1\":1,\"col2\":\"x\"},\r\n",
    "    {\"col1\":2,\"col2\":\"y\"},\r\n",
    "    {\"col1\":3,\"col2\":\"z\"},\r\n",
    "    {\"col1\":2,\"col2\":\"x\"},\r\n",
    "    {\"col1\":4,\"col2\":\"z\"}\r\n",
    "]\r\n",
    "df = spark.createDataFrame(mylist)\r\n",
    "df.show()"
   ],
   "outputs": [],
   "metadata": {}
  },
  {
   "cell_type": "code",
   "execution_count": null,
   "source": [
    "glue_DyF = DynamicFrame.fromDF(df, glueContext, \"glue_DyF\")\n",
    "glue_DyF.toDF().show()"
   ],
   "outputs": [],
   "metadata": {}
  },
  {
   "cell_type": "code",
   "execution_count": null,
   "source": [
    "# Read data from a glue catalog table\n",
    "# Make sure to replace the database and table names\n",
    "sample_DyF = glueContext.create_dynamic_frame.from_catalog(database=\"sampledb\", table_name=\"sample_table\")\n",
    "sample_DyF.toDF().show()"
   ],
   "outputs": [],
   "metadata": {}
  }
 ],
 "metadata": {
  "kernelspec": {
   "display_name": "Sparkmagic (PySpark)",
   "language": "python",
   "name": "pysparkkernel"
  },
  "language_info": {
   "codemirror_mode": {
    "name": "python",
    "version": 3
   },
   "file_extension": ".py",
   "mimetype": "text/x-python",
   "name": "pyspark",
   "pygments_lexer": "python3"
  }
 },
 "nbformat": 4,
 "nbformat_minor": 5
}